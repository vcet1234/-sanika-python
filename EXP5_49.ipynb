{
  "nbformat": 4,
  "nbformat_minor": 0,
  "metadata": {
    "colab": {
      "provenance": []
    },
    "kernelspec": {
      "name": "python3",
      "display_name": "Python 3"
    },
    "language_info": {
      "name": "python"
    }
  },
  "cells": [
    {
      "cell_type": "code",
      "execution_count": 27,
      "metadata": {
        "colab": {
          "base_uri": "https://localhost:8080/"
        },
        "id": "614-hZxM_oWs",
        "outputId": "3723b295-5264-4acb-b4bc-f09ca04795f4"
      },
      "outputs": [
        {
          "output_type": "stream",
          "name": "stdout",
          "text": [
            "Maximum depth for s1: 3\n",
            "Maximum depth for s2: 3\n",
            "Maximum depth for s3: 3\n"
          ]
        }
      ],
      "source": [
        "class StackDepth:\n",
        "    def maximumDepth(self, stringInput: str) -> int:\n",
        "        max_depth = 0\n",
        "        current_depth = 0\n",
        "\n",
        "        for char in stringInput:\n",
        "            if char == '(':\n",
        "                current_depth += 1\n",
        "                max_depth = max(max_depth, current_depth)\n",
        "            elif char == ')':\n",
        "                current_depth -= 1\n",
        "        return max_depth\n",
        "\n",
        "# Inputs\n",
        "s1 = \"(1+(2*3)+((8)/4))+1\"\n",
        "s2 = \"(1)+((2))+(((3)))\"\n",
        "s3 = \"()(())((()()))\"\n",
        "\n",
        "# Create an instance of the StackDepth class\n",
        "stack_depth = StackDepth()\n",
        "\n",
        "\n",
        "# Testing the inputs\n",
        "print(\"Maximum depth for s1:\",stack_depth.maximumDepth(s1))  # Output: 3\n",
        "print(\"Maximum depth for s2:\",stack_depth.maximumDepth(s2))  # Output: 3\n",
        "print(\"Maximum depth for s3:\",stack_depth.maximumDepth(s3))  # Output: 3\n",
        "\n"
      ]
    }
  ]
}