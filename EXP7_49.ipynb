{
  "nbformat": 4,
  "nbformat_minor": 0,
  "metadata": {
    "colab": {
      "provenance": []
    },
    "kernelspec": {
      "name": "python3",
      "display_name": "Python 3"
    },
    "language_info": {
      "name": "python"
    }
  },
  "cells": [
    {
      "cell_type": "code",
      "execution_count": 1,
      "metadata": {
        "colab": {
          "base_uri": "https://localhost:8080/"
        },
        "id": "NjbLHsv3ZvG0",
        "outputId": "3901fcbb-a23f-4810-f63f-c371e196dbb3"
      },
      "outputs": [
        {
          "output_type": "stream",
          "name": "stdout",
          "text": [
            "Record added successfully!\n",
            "Record added successfully!\n",
            "Student Records:\n",
            "(1, 'Sanika', 18)\n",
            "(2, 'Kashish', 19)\n",
            "Student age updated successfully!\n",
            "Student Records:\n",
            "(1, 'Sanika', 18)\n",
            "(2, 'Kashish', 19)\n",
            "Student deleted successfully!\n",
            "Student Records:\n",
            "(1, 'Sanika', 18)\n"
          ]
        }
      ],
      "source": [
        "import sqlite3\n",
        "\n",
        "# Connecting to the database\n",
        "connection = sqlite3.connect('./genericDatabase.db')\n",
        "cursor = connection.cursor()\n",
        "\n",
        "# Create Table if it doesn't exist\n",
        "cursor.execute('''\n",
        "    CREATE TABLE IF NOT EXISTS students (\n",
        "        id INTEGER PRIMARY KEY AUTOINCREMENT,\n",
        "        name TEXT NOT NULL,\n",
        "        age INTEGER NOT NULL\n",
        "    )\n",
        "''')\n",
        "connection.commit()\n",
        "\n",
        "\n",
        "\n",
        "# Create\n",
        "def create_student(name, age):\n",
        "    cursor.execute('''\n",
        "        INSERT INTO students (name, age)\n",
        "        VALUES (?, ?)\n",
        "    ''', (name, age))\n",
        "    connection.commit()\n",
        "    print(\"Record added successfully!\")\n",
        "\n",
        "create_student(\"Sanika\", 18)\n",
        "create_student(\"Kashish\", 19)\n",
        "\n",
        "# Read (Retrieve)\n",
        "def read_students():\n",
        "    cursor.execute('SELECT * FROM students')\n",
        "    rows = cursor.fetchall()\n",
        "    print(\"Student Records:\")\n",
        "    for row in rows:\n",
        "        print(row)\n",
        "\n",
        "read_students()\n",
        "\n",
        "# Update (Modify)\n",
        "def update_student_age(student_id, new_age):\n",
        "    cursor.execute('''\n",
        "        UPDATE students\n",
        "        SET age = ?\n",
        "        WHERE id = ?\n",
        "    ''', (student_id,new_age))\n",
        "    connection.commit()\n",
        "    print(\"Student age updated successfully!\")\n",
        "\n",
        "update_student_age(1, 21)  # Updating Griffith's age to 21\n",
        "read_students()\n",
        "\n",
        "# Delete (Remove)\n",
        "def delete_student(student_id):\n",
        "    cursor.execute('''\n",
        "        DELETE FROM students\n",
        "        WHERE id = ?\n",
        "    ''', (student_id,))\n",
        "    connection.commit()\n",
        "    print(\"Student deleted successfully!\")\n",
        "\n",
        "delete_student(2)  # Deleting Guts' record\n",
        "read_students()\n",
        "\n",
        "# Closing the database connection\n",
        "connection.close()"
      ]
    }
  ]
}