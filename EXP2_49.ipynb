{
  "nbformat": 4,
  "nbformat_minor": 0,
  "metadata": {
    "colab": {
      "provenance": []
    },
    "kernelspec": {
      "name": "python3",
      "display_name": "Python 3"
    },
    "language_info": {
      "name": "python"
    }
  },
  "cells": [
    {
      "cell_type": "code",
      "execution_count": 10,
      "metadata": {
        "colab": {
          "base_uri": "https://localhost:8080/"
        },
        "id": "yWSwnKCE9DQg",
        "outputId": "8951ff3c-0dca-4d10-f478-74d70641c4cc"
      },
      "outputs": [
        {
          "output_type": "stream",
          "name": "stdout",
          "text": [
            "True\n",
            "False\n",
            "True\n",
            "True\n",
            "False\n"
          ]
        }
      ],
      "source": [
        "class conditionalStatements:\n",
        "    def checkString(self, s: str) -> bool:\n",
        "\n",
        "        encountered_b = False\n",
        "\n",
        "        for char in s:\n",
        "            if char == 'b':\n",
        "                encountered_b = True\n",
        "            elif char == 'a' and encountered_b:\n",
        "\n",
        "                return False\n",
        "\n",
        "\n",
        "        return True\n",
        "\n",
        "\n",
        "checker = conditionalStatements()\n",
        "\n",
        "\n",
        "print(checker.checkString(\"aaabbb\"))\n",
        "print(checker.checkString(\"abab\"))\n",
        "print(checker.checkString(\"bbb\"))\n",
        "print(checker.checkString(\"aabb\"))\n",
        "print(checker.checkString(\"ababa\"))\n",
        "\n",
        "\n"
      ]
    },
    {
      "cell_type": "markdown",
      "source": [],
      "metadata": {
        "id": "JDw46FWy-Wjt"
      }
    }
  ]
}