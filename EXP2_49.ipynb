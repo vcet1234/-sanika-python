{
  "nbformat": 4,
  "nbformat_minor": 0,
  "metadata": {
    "colab": {
      "provenance": [],
      "authorship_tag": "ABX9TyOqVA2Gzh3oohoRZIeO8MYR",
      "include_colab_link": true
    },
    "kernelspec": {
      "name": "python3",
      "display_name": "Python 3"
    },
    "language_info": {
      "name": "python"
    }
  },
  "cells": [
    {
      "cell_type": "markdown",
      "metadata": {
        "id": "view-in-github",
        "colab_type": "text"
      },
      "source": [
        "<a href=\"https://colab.research.google.com/github/vcet1234/-sanika-python/blob/main/EXP2_49.ipynb\" target=\"_parent\"><img src=\"https://colab.research.google.com/assets/colab-badge.svg\" alt=\"Open In Colab\"/></a>"
      ]
    },
    {
      "cell_type": "code",
      "execution_count": 10,
      "metadata": {
        "colab": {
          "base_uri": "https://localhost:8080/"
        },
        "id": "yWSwnKCE9DQg",
        "outputId": "8951ff3c-0dca-4d10-f478-74d70641c4cc"
      },
      "outputs": [
        {
          "output_type": "stream",
          "name": "stdout",
          "text": [
            "True\n",
            "False\n",
            "True\n",
            "True\n",
            "False\n"
          ]
        }
      ],
      "source": [
        "class conditionalStatements:\n",
        "    def checkString(self, s: str) -> bool:\n",
        "\n",
        "        encountered_b = False\n",
        "\n",
        "        for char in s:\n",
        "            if char == 'b':\n",
        "                encountered_b = True\n",
        "            elif char == 'a' and encountered_b:\n",
        "\n",
        "                return False\n",
        "\n",
        "\n",
        "        return True\n",
        "\n",
        "\n",
        "checker = conditionalStatements()\n",
        "\n",
        "\n",
        "print(checker.checkString(\"aaabbb\"))\n",
        "print(checker.checkString(\"abab\"))\n",
        "print(checker.checkString(\"bbb\"))\n",
        "print(checker.checkString(\"aabb\"))\n",
        "print(checker.checkString(\"ababa\"))\n",
        "\n",
        "\n"
      ]
    },
    {
      "cell_type": "markdown",
      "source": [],
      "metadata": {
        "id": "JDw46FWy-Wjt"
      }
    }
  ]
}