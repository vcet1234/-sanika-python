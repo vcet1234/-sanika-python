{
  "nbformat": 4,
  "nbformat_minor": 0,
  "metadata": {
    "colab": {
      "provenance": [],
      "authorship_tag": "ABX9TyPc+0FJ9sSzCJBQguRkxaZz",
      "include_colab_link": true
    },
    "kernelspec": {
      "name": "python3",
      "display_name": "Python 3"
    },
    "language_info": {
      "name": "python"
    }
  },
  "cells": [
    {
      "cell_type": "markdown",
      "metadata": {
        "id": "view-in-github",
        "colab_type": "text"
      },
      "source": [
        "<a href=\"https://colab.research.google.com/github/vcet1234/-sanika-python/blob/main/exp10_49.ipynb\" target=\"_parent\"><img src=\"https://colab.research.google.com/assets/colab-badge.svg\" alt=\"Open In Colab\"/></a>"
      ]
    },
    {
      "cell_type": "markdown",
      "source": [
        "Name:- Sanika Kishor Uttekar\n",
        "Class:- SE3-S3\n",
        "Roll no:-49"
      ],
      "metadata": {
        "id": "nyL7x4VSb5Ii"
      }
    },
    {
      "cell_type": "code",
      "execution_count": null,
      "metadata": {
        "colab": {
          "base_uri": "https://localhost:8080/"
        },
        "id": "4rBnGJZta4Sp",
        "outputId": "4a0ac778-1894-4ae5-e074-bc328f64d0e8"
      },
      "outputs": [
        {
          "output_type": "stream",
          "name": "stdout",
          "text": [
            "Pi: 3.141592653589793\n",
            "Euler's Number: 2.718281828459045\n"
          ]
        }
      ],
      "source": [
        "import math\n",
        "import numpy as np\n",
        "\n",
        "# Exploring basic NumPy methods (without array methods)\n",
        "\n",
        "# Mathematical Constants\n",
        "print(\"Pi:\", np.pi)\n",
        "print(\"Euler's Number:\", np.e)"
      ]
    },
    {
      "cell_type": "code",
      "source": [
        "# Exponential and Logarithmic Functions\n",
        "print(\"Exponential of 2:\", np.exp(2))\n",
        "print(\"Natural Log of 10:\", np.log(10))\n",
        "print(\"Log base 10 of 100:\", np.log10(100))\n",
        "print(\"Log base 2 of 8:\", np.log2(8))"
      ],
      "metadata": {
        "colab": {
          "base_uri": "https://localhost:8080/"
        },
        "id": "Nc3ge28sbLXK",
        "outputId": "dd7c3545-6eb9-48ef-dbd7-b204ae66a79c"
      },
      "execution_count": null,
      "outputs": [
        {
          "output_type": "stream",
          "name": "stdout",
          "text": [
            "Exponential of 2: 7.38905609893065\n",
            "Natural Log of 10: 2.302585092994046\n",
            "Log base 10 of 100: 2.0\n",
            "Log base 2 of 8: 3.0\n"
          ]
        }
      ]
    },
    {
      "cell_type": "code",
      "source": [
        "# Rounding Functions\n",
        "print(\"Ceil of 4.3:\", np.ceil(4.3))\n",
        "print(\"Floor of 4.7:\", np.floor(4.7))\n",
        "print(\"Round 4.5:\", np.round(4.5))"
      ],
      "metadata": {
        "colab": {
          "base_uri": "https://localhost:8080/"
        },
        "id": "y9dRAy-fbc2J",
        "outputId": "547e685d-688a-41c6-d8d3-d4f3184f3a25"
      },
      "execution_count": null,
      "outputs": [
        {
          "output_type": "stream",
          "name": "stdout",
          "text": [
            "Ceil of 4.3: 5.0\n",
            "Floor of 4.7: 4.0\n",
            "Round 4.5: 4.0\n"
          ]
        }
      ]
    },
    {
      "cell_type": "code",
      "source": [
        "# Random Number Generation\n",
        "print(\"Random Number [0,1]:\", np.random.rand())\n",
        "print(\"Random Integer [1,10]:\", np.random.randint(1, 10))\n"
      ],
      "metadata": {
        "colab": {
          "base_uri": "https://localhost:8080/"
        },
        "id": "gWrylvZNbgR5",
        "outputId": "deeaeb08-5fd0-4a5c-a94d-bd99cd1a7aa6"
      },
      "execution_count": null,
      "outputs": [
        {
          "output_type": "stream",
          "name": "stdout",
          "text": [
            "Random Number [0,1]: 0.5534089510539477\n",
            "Random Integer [1,10]: 3\n"
          ]
        }
      ]
    },
    {
      "cell_type": "code",
      "source": [
        "# Statistical Functions\n",
        "data = [1, 2, 3, 4, 5, 6, 7, 8, 9]\n",
        "print(\"Mean:\", np.mean(data))\n",
        "print(\"Median:\", np.median(data))\n",
        "print(\"Standard Deviation:\", np.std(data))\n",
        "print(\"Variance:\", np.var(data))"
      ],
      "metadata": {
        "colab": {
          "base_uri": "https://localhost:8080/"
        },
        "id": "6JYkfUtkbjax",
        "outputId": "9bedfb72-510d-473f-f9de-c4d6e5a41a38"
      },
      "execution_count": null,
      "outputs": [
        {
          "output_type": "stream",
          "name": "stdout",
          "text": [
            "Mean: 5.0\n",
            "Median: 5.0\n",
            "Standard Deviation: 2.581988897471611\n",
            "Variance: 6.666666666666667\n"
          ]
        }
      ]
    },
    {
      "cell_type": "code",
      "source": [
        "# Greatest Common Divisor (GCD) and Least Common Multiple (LCM)\n",
        "print(\"GCD of 24 and 36:\", np.gcd(24, 36))\n",
        "print(\"LCM of 6 and 8:\", np.lcm(6, 8))"
      ],
      "metadata": {
        "colab": {
          "base_uri": "https://localhost:8080/"
        },
        "id": "W5mC8IYSbuW5",
        "outputId": "4c89b081-288b-4a49-d86e-f1d26dd01fcc"
      },
      "execution_count": null,
      "outputs": [
        {
          "output_type": "stream",
          "name": "stdout",
          "text": [
            "GCD of 24 and 36: 12\n",
            "LCM of 6 and 8: 24\n"
          ]
        }
      ]
    },
    {
      "cell_type": "code",
      "source": [
        "# Factorial and Power\n",
        "print(\"Factorial of 5:\", math.factorial(5))\n",
        "print(\"2 to the power of 3:\", np.power(2, 3))\n"
      ],
      "metadata": {
        "colab": {
          "base_uri": "https://localhost:8080/"
        },
        "id": "o-RxhHASb07R",
        "outputId": "361cb0a6-a417-4e5a-e316-cfd5e9f9c116"
      },
      "execution_count": null,
      "outputs": [
        {
          "output_type": "stream",
          "name": "stdout",
          "text": [
            "Factorial of 5: 120\n",
            "2 to the power of 3: 8\n"
          ]
        }
      ]
    }
  ]
}